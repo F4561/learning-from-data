{
 "cells": [
  {
   "cell_type": "code",
   "execution_count": 19,
   "id": "3bf43a57",
   "metadata": {},
   "outputs": [],
   "source": [
    "import numpy as np\n",
    "from scipy import stats\n",
    "import matplotlib.pyplot as plt\n",
    "import seaborn as sns"
   ]
  },
  {
   "cell_type": "markdown",
   "id": "e14977e2",
   "metadata": {},
   "source": [
    "EXERCISE 1. Suppose scores on exams in statistics are normally distributed with an unknown population mean and a population standard deviation of 3 points. A random sample of 36 scores is taken and gives a sample mean (sample  mean score) of 68. Find a confidence interval estimate for the population mean exam score (the mean score on all exams).\n",
    "\n",
    "Find a 90% confidence interval for the true (population) mean of statistics exam scores."
   ]
  },
  {
   "cell_type": "code",
   "execution_count": 42,
   "id": "22561c25",
   "metadata": {},
   "outputs": [],
   "source": [
    "# population mean = unknown\n",
    "# population std = 3\n",
    "# sample size = 36\n",
    "# sample mean = 68\n",
    "# 90% confidence interval = ???"
   ]
  },
  {
   "cell_type": "code",
   "execution_count": 43,
   "id": "062cc928",
   "metadata": {},
   "outputs": [],
   "source": [
    "xbar = 68\n",
    "sem = 3/np.sqrt(36)\n"
   ]
  },
  {
   "cell_type": "code",
   "execution_count": 44,
   "id": "58b31973",
   "metadata": {},
   "outputs": [
    {
     "data": {
      "text/plain": [
       "0.8225"
      ]
     },
     "execution_count": 44,
     "metadata": {},
     "output_type": "execute_result"
    }
   ],
   "source": [
    "moe = 1.645 * sem\n",
    "moe"
   ]
  },
  {
   "cell_type": "code",
   "execution_count": 45,
   "id": "20cf34ad",
   "metadata": {
    "scrolled": true
   },
   "outputs": [
    {
     "data": {
      "text/plain": [
       "68.8225"
      ]
     },
     "execution_count": 45,
     "metadata": {},
     "output_type": "execute_result"
    }
   ],
   "source": [
    "upper_limit = xbar+moe\n",
    "upper_limit"
   ]
  },
  {
   "cell_type": "code",
   "execution_count": 46,
   "id": "bdd97c31",
   "metadata": {},
   "outputs": [
    {
     "data": {
      "text/plain": [
       "67.1775"
      ]
     },
     "execution_count": 46,
     "metadata": {},
     "output_type": "execute_result"
    }
   ],
   "source": [
    "lower_limit = xbar-moe\n",
    "lower_limit"
   ]
  },
  {
   "cell_type": "code",
   "execution_count": 47,
   "id": "38dc0e81",
   "metadata": {},
   "outputs": [
    {
     "data": {
      "text/plain": [
       "(67.17757318652427, 68.82242681347573)"
      ]
     },
     "execution_count": 47,
     "metadata": {},
     "output_type": "execute_result"
    }
   ],
   "source": [
    "stats.norm.interval(0.90, loc= xbar, scale= sem)"
   ]
  },
  {
   "cell_type": "code",
   "execution_count": 26,
   "id": "ea21ecbb",
   "metadata": {},
   "outputs": [],
   "source": [
    "# as we know the sigma, above code is the first choice to use,\n",
    "# below can be used as well\n",
    "# stats.t.interval(0.90, df= 35, loc=xbar, scale= sem)    "
   ]
  },
  {
   "cell_type": "markdown",
   "id": "5867a2ed",
   "metadata": {},
   "source": [
    "EXERCISE 2. What is the normal body temperature for healthy humans? A random sample of 130 healthy human body temperatures provided by Allen Shoemaker7 yielded 98.25 degrees and standard deviation 0.73 degrees. \n",
    "\n",
    "Give a 99% confidence interval for the average body temperature of healthy people."
   ]
  },
  {
   "cell_type": "code",
   "execution_count": null,
   "id": "2516e2ff",
   "metadata": {},
   "outputs": [],
   "source": [
    "# sample mean = 98.25\n",
    "# std of sample = 0.73\n",
    "# sample size = 130\n",
    "# 99% confidence interval = ???"
   ]
  },
  {
   "cell_type": "code",
   "execution_count": 48,
   "id": "2a9b2e53",
   "metadata": {},
   "outputs": [],
   "source": [
    "xbar = 98.25\n",
    "n = 130\n",
    "s = 0.73"
   ]
  },
  {
   "cell_type": "code",
   "execution_count": 49,
   "id": "5caa7454",
   "metadata": {},
   "outputs": [
    {
     "data": {
      "text/plain": [
       "0.06402523540941313"
      ]
     },
     "execution_count": 49,
     "metadata": {},
     "output_type": "execute_result"
    }
   ],
   "source": [
    "sem = s/np.sqrt(n)\n",
    "sem"
   ]
  },
  {
   "cell_type": "code",
   "execution_count": 51,
   "id": "1cfcea8a",
   "metadata": {},
   "outputs": [
    {
     "data": {
      "text/plain": [
       "0.1651851073562859"
      ]
     },
     "execution_count": 51,
     "metadata": {},
     "output_type": "execute_result"
    }
   ],
   "source": [
    "moe = 2.58 * sem\n",
    "moe"
   ]
  },
  {
   "cell_type": "code",
   "execution_count": 55,
   "id": "ae982744",
   "metadata": {},
   "outputs": [
    {
     "data": {
      "text/plain": [
       "98.41518510735628"
      ]
     },
     "execution_count": 55,
     "metadata": {},
     "output_type": "execute_result"
    }
   ],
   "source": [
    "upper_limit1 = xbar+moe\n",
    "upper_limit1"
   ]
  },
  {
   "cell_type": "code",
   "execution_count": 56,
   "id": "11b28298",
   "metadata": {},
   "outputs": [
    {
     "data": {
      "text/plain": [
       "98.08481489264372"
      ]
     },
     "execution_count": 56,
     "metadata": {},
     "output_type": "execute_result"
    }
   ],
   "source": [
    "lower_limit1 = xbar- moe\n",
    "lower_limit1"
   ]
  },
  {
   "cell_type": "code",
   "execution_count": 57,
   "id": "bd76d6f1",
   "metadata": {},
   "outputs": [
    {
     "data": {
      "text/plain": [
       "(98.08508192246582, 98.41491807753418)"
      ]
     },
     "execution_count": 57,
     "metadata": {},
     "output_type": "execute_result"
    }
   ],
   "source": [
    "stats.norm.interval(0.99, loc= xbar, scale= sem)"
   ]
  },
  {
   "cell_type": "code",
   "execution_count": 58,
   "id": "d134dfbb",
   "metadata": {},
   "outputs": [
    {
     "data": {
      "text/plain": [
       "(98.08260738705933, 98.41739261294067)"
      ]
     },
     "execution_count": 58,
     "metadata": {},
     "output_type": "execute_result"
    }
   ],
   "source": [
    "stats.t.interval(0.99, df= 129, loc=xbar, scale= sem)"
   ]
  },
  {
   "cell_type": "markdown",
   "id": "af7da0ed",
   "metadata": {},
   "source": [
    "EXERCISE 3. The administrators for a hospital wished to estimate the average number of days required for inpatient treatment of patients between the ages of 25 and 34. A random sample of 500 hospital patients between these ages produced a mean and standard deviation equal to 5.4 and 3.1 days, respectively.\n",
    "Construct a 95% confidence interval for the mean length of stay for the population of patients from which the sample was drawn."
   ]
  },
  {
   "cell_type": "markdown",
   "id": "8904e7b8",
   "metadata": {},
   "source": [
    "sample size = 500\n",
    "sample mean = 5.4\n",
    "std_of_sample = 3.1\n",
    "95% confidence interval=???"
   ]
  },
  {
   "cell_type": "code",
   "execution_count": 59,
   "id": "8e212a30",
   "metadata": {},
   "outputs": [
    {
     "data": {
      "text/plain": [
       "0.13863621460498696"
      ]
     },
     "execution_count": 59,
     "metadata": {},
     "output_type": "execute_result"
    }
   ],
   "source": [
    "xbar = 5.4\n",
    "n = 500\n",
    "s = 3.1\n",
    "sem = s / np.sqrt(n)\n",
    "sem"
   ]
  },
  {
   "cell_type": "code",
   "execution_count": 60,
   "id": "9bb73a73",
   "metadata": {},
   "outputs": [
    {
     "data": {
      "text/plain": [
       "0.27172698062577444"
      ]
     },
     "execution_count": 60,
     "metadata": {},
     "output_type": "execute_result"
    }
   ],
   "source": [
    "moe = 1.96 * sem\n",
    "moe"
   ]
  },
  {
   "cell_type": "code",
   "execution_count": 65,
   "id": "66855e59",
   "metadata": {},
   "outputs": [
    {
     "data": {
      "text/plain": [
       "5.128273019374226"
      ]
     },
     "execution_count": 65,
     "metadata": {},
     "output_type": "execute_result"
    }
   ],
   "source": [
    "lower_limit2 =xbar-moe\n",
    "lower_limit2"
   ]
  },
  {
   "cell_type": "code",
   "execution_count": 64,
   "id": "e2b706a2",
   "metadata": {},
   "outputs": [
    {
     "data": {
      "text/plain": [
       "5.671726980625775"
      ]
     },
     "execution_count": 64,
     "metadata": {},
     "output_type": "execute_result"
    }
   ],
   "source": [
    "upper_limit2 = xbar+moe\n",
    "upper_limit2"
   ]
  },
  {
   "cell_type": "code",
   "execution_count": 38,
   "id": "0cff873d",
   "metadata": {
    "scrolled": false
   },
   "outputs": [
    {
     "data": {
      "text/plain": [
       "(5.127617354510309, 5.672382645489692)"
      ]
     },
     "execution_count": 38,
     "metadata": {},
     "output_type": "execute_result"
    }
   ],
   "source": [
    "stats.t.interval(0.95, df = n-1, loc= xbar, scale = sem)"
   ]
  },
  {
   "cell_type": "code",
   "execution_count": 39,
   "id": "2c990e74",
   "metadata": {},
   "outputs": [
    {
     "data": {
      "text/plain": [
       "(5.12827801242126, 5.67172198757874)"
      ]
     },
     "execution_count": 39,
     "metadata": {},
     "output_type": "execute_result"
    }
   ],
   "source": [
    "stats.norm.interval(0.95, loc= xbar, scale= sem)"
   ]
  }
 ],
 "metadata": {
  "kernelspec": {
   "display_name": "Python 3 (ipykernel)",
   "language": "python",
   "name": "python3"
  },
  "language_info": {
   "codemirror_mode": {
    "name": "ipython",
    "version": 3
   },
   "file_extension": ".py",
   "mimetype": "text/x-python",
   "name": "python",
   "nbconvert_exporter": "python",
   "pygments_lexer": "ipython3",
   "version": "3.9.12"
  }
 },
 "nbformat": 4,
 "nbformat_minor": 5
}
